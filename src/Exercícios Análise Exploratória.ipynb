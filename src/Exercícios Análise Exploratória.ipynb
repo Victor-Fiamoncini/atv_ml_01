{
 "cells": [
  {
   "cell_type": "markdown",
   "id": "28bb8fbd",
   "metadata": {},
   "source": [
    "# Parte 1 - Análise Exploratória: Diagnosticando Diabetes"
   ]
  },
  {
   "cell_type": "markdown",
   "id": "e7f3ee8a",
   "metadata": {},
   "source": [
    "Neste projeto, você imaginará que é um cientista de dados interessado em explorar dados que analisam como certos fatores de diagnóstico afetam o resultado do diabetes em pacientes mulheres.\n",
    "\n",
    "Você usuará suas Análise Exploratória para inspecionar, limpar e validar os dados.\n",
    "\n",
    "**Observação**: Este [conjunto de dados](https://www.kaggle.com/uciml/pima-indians-diabetes-database) contém as seguintes colunas:\n",
    "\n",
    "- `Pregnancies`: Número de gravidezes\n",
    "- `Glucose`: Concentração de glicose plasmática por 2 horas em um teste oral de tolerância à glicose\n",
    "- `BloodPressure`: Pressão sanguínea diastólica\n",
    "- `SkinThickness`: Espessura da dobra cutânea do tríceps\n",
    "- `Insulin`: insulina sérica de 2 horas\n",
    "- `BMI`: Índice de massa corporal\n",
    "- `DiabetesPedigreeFunction`: Função hereditária do diabetes\n",
    "- `Age`: Anos de idade)\n",
    "- `Outcome`: variável de classe (0 ou 1)"
   ]
  },
  {
   "cell_type": "markdown",
   "id": "d724d797",
   "metadata": {},
   "source": [
    "## Inspeção Inicial"
   ]
  },
  {
   "cell_type": "markdown",
   "id": "17bf7309",
   "metadata": {},
   "source": [
    "1. Primeiro, familiarize-se com o conjunto de dados [aqui](https://www.kaggle.com/uciml/pima-indians-diabetes-database) . \n",
    "    \n",
    "    Observe cada uma das nove colunas da documentação. \n",
    "    \n",
    "    O que você espera que cada tipo de dados seja?"
   ]
  },
  {
   "cell_type": "markdown",
   "id": "b50fcf85",
   "metadata": {},
   "source": [
    "Tipo de dados esperado para cada coluna:\n",
    "\n",
    "- `Pregnancies`: números inteiros \n",
    "- `Glucose`: números inteiros\n",
    "- `BloodPressure`: números inteiros\n",
    "- `SkinThickness`: números inteiros\n",
    "- `Insulin`: números inteiros\n",
    "- `BMI`: números decimais\n",
    "- `DiabetesPedigreeFunction`: números decimais\n",
    "- `Age`: números inteiros\n",
    "- `Outcome`: número 0 ou 1"
   ]
  },
  {
   "cell_type": "markdown",
   "id": "b1127081",
   "metadata": {},
   "source": [
    "2. Em seguida, vamos carregar os dados de diabetes para começar a explorar.\n",
    "\n",
    "    Carregue os dados em uma variável chamada `diabetes_data` e imprima as primeiras linhas.\n",
    "\n",
    "    **Nota** : Os dados são armazenados em um arquivo chamado `diabetes.csv`."
   ]
  },
  {
   "cell_type": "code",
   "execution_count": 143,
   "id": "93c27b70",
   "metadata": {},
   "outputs": [
    {
     "data": {
      "text/html": [
       "<div>\n",
       "<style scoped>\n",
       "    .dataframe tbody tr th:only-of-type {\n",
       "        vertical-align: middle;\n",
       "    }\n",
       "\n",
       "    .dataframe tbody tr th {\n",
       "        vertical-align: top;\n",
       "    }\n",
       "\n",
       "    .dataframe thead th {\n",
       "        text-align: right;\n",
       "    }\n",
       "</style>\n",
       "<table border=\"1\" class=\"dataframe\">\n",
       "  <thead>\n",
       "    <tr style=\"text-align: right;\">\n",
       "      <th></th>\n",
       "      <th>Pregnancies</th>\n",
       "      <th>Glucose</th>\n",
       "      <th>BloodPressure</th>\n",
       "      <th>SkinThickness</th>\n",
       "      <th>Insulin</th>\n",
       "      <th>BMI</th>\n",
       "      <th>DiabetesPedigreeFunction</th>\n",
       "      <th>Age</th>\n",
       "      <th>Outcome</th>\n",
       "    </tr>\n",
       "  </thead>\n",
       "  <tbody>\n",
       "    <tr>\n",
       "      <th>758</th>\n",
       "      <td>1</td>\n",
       "      <td>106</td>\n",
       "      <td>76</td>\n",
       "      <td>0</td>\n",
       "      <td>0</td>\n",
       "      <td>37.5</td>\n",
       "      <td>0.197</td>\n",
       "      <td>26</td>\n",
       "      <td>0</td>\n",
       "    </tr>\n",
       "    <tr>\n",
       "      <th>759</th>\n",
       "      <td>6</td>\n",
       "      <td>190</td>\n",
       "      <td>92</td>\n",
       "      <td>0</td>\n",
       "      <td>0</td>\n",
       "      <td>35.5</td>\n",
       "      <td>0.278</td>\n",
       "      <td>66</td>\n",
       "      <td>1</td>\n",
       "    </tr>\n",
       "    <tr>\n",
       "      <th>760</th>\n",
       "      <td>2</td>\n",
       "      <td>88</td>\n",
       "      <td>58</td>\n",
       "      <td>26</td>\n",
       "      <td>16</td>\n",
       "      <td>28.4</td>\n",
       "      <td>0.766</td>\n",
       "      <td>22</td>\n",
       "      <td>0</td>\n",
       "    </tr>\n",
       "    <tr>\n",
       "      <th>761</th>\n",
       "      <td>9</td>\n",
       "      <td>170</td>\n",
       "      <td>74</td>\n",
       "      <td>31</td>\n",
       "      <td>0</td>\n",
       "      <td>44.0</td>\n",
       "      <td>0.403</td>\n",
       "      <td>43</td>\n",
       "      <td>1</td>\n",
       "    </tr>\n",
       "    <tr>\n",
       "      <th>762</th>\n",
       "      <td>9</td>\n",
       "      <td>89</td>\n",
       "      <td>62</td>\n",
       "      <td>0</td>\n",
       "      <td>0</td>\n",
       "      <td>22.5</td>\n",
       "      <td>0.142</td>\n",
       "      <td>33</td>\n",
       "      <td>0</td>\n",
       "    </tr>\n",
       "    <tr>\n",
       "      <th>763</th>\n",
       "      <td>10</td>\n",
       "      <td>101</td>\n",
       "      <td>76</td>\n",
       "      <td>48</td>\n",
       "      <td>180</td>\n",
       "      <td>32.9</td>\n",
       "      <td>0.171</td>\n",
       "      <td>63</td>\n",
       "      <td>0</td>\n",
       "    </tr>\n",
       "    <tr>\n",
       "      <th>764</th>\n",
       "      <td>2</td>\n",
       "      <td>122</td>\n",
       "      <td>70</td>\n",
       "      <td>27</td>\n",
       "      <td>0</td>\n",
       "      <td>36.8</td>\n",
       "      <td>0.340</td>\n",
       "      <td>27</td>\n",
       "      <td>0</td>\n",
       "    </tr>\n",
       "    <tr>\n",
       "      <th>765</th>\n",
       "      <td>5</td>\n",
       "      <td>121</td>\n",
       "      <td>72</td>\n",
       "      <td>23</td>\n",
       "      <td>112</td>\n",
       "      <td>26.2</td>\n",
       "      <td>0.245</td>\n",
       "      <td>30</td>\n",
       "      <td>0</td>\n",
       "    </tr>\n",
       "    <tr>\n",
       "      <th>766</th>\n",
       "      <td>1</td>\n",
       "      <td>126</td>\n",
       "      <td>60</td>\n",
       "      <td>0</td>\n",
       "      <td>0</td>\n",
       "      <td>30.1</td>\n",
       "      <td>0.349</td>\n",
       "      <td>47</td>\n",
       "      <td>1</td>\n",
       "    </tr>\n",
       "    <tr>\n",
       "      <th>767</th>\n",
       "      <td>1</td>\n",
       "      <td>93</td>\n",
       "      <td>70</td>\n",
       "      <td>31</td>\n",
       "      <td>0</td>\n",
       "      <td>30.4</td>\n",
       "      <td>0.315</td>\n",
       "      <td>23</td>\n",
       "      <td>0</td>\n",
       "    </tr>\n",
       "  </tbody>\n",
       "</table>\n",
       "</div>"
      ],
      "text/plain": [
       "     Pregnancies  Glucose  BloodPressure  SkinThickness  Insulin   BMI  \\\n",
       "758            1      106             76              0        0  37.5   \n",
       "759            6      190             92              0        0  35.5   \n",
       "760            2       88             58             26       16  28.4   \n",
       "761            9      170             74             31        0  44.0   \n",
       "762            9       89             62              0        0  22.5   \n",
       "763           10      101             76             48      180  32.9   \n",
       "764            2      122             70             27        0  36.8   \n",
       "765            5      121             72             23      112  26.2   \n",
       "766            1      126             60              0        0  30.1   \n",
       "767            1       93             70             31        0  30.4   \n",
       "\n",
       "     DiabetesPedigreeFunction  Age Outcome  \n",
       "758                     0.197   26       0  \n",
       "759                     0.278   66       1  \n",
       "760                     0.766   22       0  \n",
       "761                     0.403   43       1  \n",
       "762                     0.142   33       0  \n",
       "763                     0.171   63       0  \n",
       "764                     0.340   27       0  \n",
       "765                     0.245   30       0  \n",
       "766                     0.349   47       1  \n",
       "767                     0.315   23       0  "
      ]
     },
     "execution_count": 143,
     "metadata": {},
     "output_type": "execute_result"
    }
   ],
   "source": [
    "import pandas as pd\n",
    "import numpy as np\n",
    "\n",
    "# ler os dados\n",
    "diabetes_data = pd.read_csv('diabetes.csv')\n",
    "diabetes_data.tail(10)\n"
   ]
  },
  {
   "cell_type": "markdown",
   "id": "f2605a71",
   "metadata": {},
   "source": [
    "3. Quantas colunas (recursos) os dados contêm?"
   ]
  },
  {
   "cell_type": "code",
   "execution_count": 144,
   "id": "84037dbb",
   "metadata": {},
   "outputs": [
    {
     "data": {
      "text/plain": [
       "9"
      ]
     },
     "execution_count": 144,
     "metadata": {},
     "output_type": "execute_result"
    }
   ],
   "source": [
    "# imprime o número de colunas\n",
    "numero_colunas = len(diabetes_data.columns)\n",
    "numero_colunas"
   ]
  },
  {
   "cell_type": "markdown",
   "id": "b49272d2",
   "metadata": {},
   "source": [
    "4. Quantas linhas (observações) os dados contêm?"
   ]
  },
  {
   "cell_type": "code",
   "execution_count": 145,
   "id": "e45ede4c",
   "metadata": {},
   "outputs": [
    {
     "data": {
      "text/plain": [
       "768"
      ]
     },
     "execution_count": 145,
     "metadata": {},
     "output_type": "execute_result"
    }
   ],
   "source": [
    "# imprime o número de linhas\n",
    "numero_linhas = len(diabetes_data.index)\n",
    "numero_linhas"
   ]
  },
  {
   "cell_type": "markdown",
   "id": "dc873b9a",
   "metadata": {},
   "source": [
    "## Inspeção Adicional"
   ]
  },
  {
   "cell_type": "markdown",
   "id": "fad72b58",
   "metadata": {},
   "source": [
    "5. Vamos inspecionar mais o `diabetes_data`.\n",
    "\n",
    "    Alguma das colunas nos dados contém valores nulos (ausentes)?"
   ]
  },
  {
   "cell_type": "code",
   "execution_count": 146,
   "id": "4cdd2baf",
   "metadata": {},
   "outputs": [
    {
     "data": {
      "text/plain": [
       "Pregnancies                 0\n",
       "Glucose                     0\n",
       "BloodPressure               0\n",
       "SkinThickness               0\n",
       "Insulin                     0\n",
       "BMI                         0\n",
       "DiabetesPedigreeFunction    0\n",
       "Age                         0\n",
       "Outcome                     0\n",
       "dtype: int64"
      ]
     },
     "execution_count": 146,
     "metadata": {},
     "output_type": "execute_result"
    }
   ],
   "source": [
    "# descubra se as colunas contêm valores nulos\n",
    "diabetes_data.isnull().sum()"
   ]
  },
  {
   "cell_type": "markdown",
   "id": "10d63991",
   "metadata": {},
   "source": [
    "6. Para investigar mais, calcule estatísticas resumidas sobre `diabetes_data` usando o método .describe()."
   ]
  },
  {
   "cell_type": "code",
   "execution_count": 147,
   "id": "7edf18dc",
   "metadata": {},
   "outputs": [
    {
     "data": {
      "text/html": [
       "<div>\n",
       "<style scoped>\n",
       "    .dataframe tbody tr th:only-of-type {\n",
       "        vertical-align: middle;\n",
       "    }\n",
       "\n",
       "    .dataframe tbody tr th {\n",
       "        vertical-align: top;\n",
       "    }\n",
       "\n",
       "    .dataframe thead th {\n",
       "        text-align: right;\n",
       "    }\n",
       "</style>\n",
       "<table border=\"1\" class=\"dataframe\">\n",
       "  <thead>\n",
       "    <tr style=\"text-align: right;\">\n",
       "      <th></th>\n",
       "      <th>Pregnancies</th>\n",
       "      <th>Glucose</th>\n",
       "      <th>BloodPressure</th>\n",
       "      <th>SkinThickness</th>\n",
       "      <th>Insulin</th>\n",
       "      <th>BMI</th>\n",
       "      <th>DiabetesPedigreeFunction</th>\n",
       "      <th>Age</th>\n",
       "    </tr>\n",
       "  </thead>\n",
       "  <tbody>\n",
       "    <tr>\n",
       "      <th>count</th>\n",
       "      <td>768.000000</td>\n",
       "      <td>768.000000</td>\n",
       "      <td>768.000000</td>\n",
       "      <td>768.000000</td>\n",
       "      <td>768.000000</td>\n",
       "      <td>768.000000</td>\n",
       "      <td>768.000000</td>\n",
       "      <td>768.000000</td>\n",
       "    </tr>\n",
       "    <tr>\n",
       "      <th>mean</th>\n",
       "      <td>3.845052</td>\n",
       "      <td>120.894531</td>\n",
       "      <td>69.105469</td>\n",
       "      <td>20.536458</td>\n",
       "      <td>79.799479</td>\n",
       "      <td>31.992578</td>\n",
       "      <td>0.471876</td>\n",
       "      <td>33.240885</td>\n",
       "    </tr>\n",
       "    <tr>\n",
       "      <th>std</th>\n",
       "      <td>3.369578</td>\n",
       "      <td>31.972618</td>\n",
       "      <td>19.355807</td>\n",
       "      <td>15.952218</td>\n",
       "      <td>115.244002</td>\n",
       "      <td>7.884160</td>\n",
       "      <td>0.331329</td>\n",
       "      <td>11.760232</td>\n",
       "    </tr>\n",
       "    <tr>\n",
       "      <th>min</th>\n",
       "      <td>0.000000</td>\n",
       "      <td>0.000000</td>\n",
       "      <td>0.000000</td>\n",
       "      <td>0.000000</td>\n",
       "      <td>0.000000</td>\n",
       "      <td>0.000000</td>\n",
       "      <td>0.078000</td>\n",
       "      <td>21.000000</td>\n",
       "    </tr>\n",
       "    <tr>\n",
       "      <th>25%</th>\n",
       "      <td>1.000000</td>\n",
       "      <td>99.000000</td>\n",
       "      <td>62.000000</td>\n",
       "      <td>0.000000</td>\n",
       "      <td>0.000000</td>\n",
       "      <td>27.300000</td>\n",
       "      <td>0.243750</td>\n",
       "      <td>24.000000</td>\n",
       "    </tr>\n",
       "    <tr>\n",
       "      <th>50%</th>\n",
       "      <td>3.000000</td>\n",
       "      <td>117.000000</td>\n",
       "      <td>72.000000</td>\n",
       "      <td>23.000000</td>\n",
       "      <td>30.500000</td>\n",
       "      <td>32.000000</td>\n",
       "      <td>0.372500</td>\n",
       "      <td>29.000000</td>\n",
       "    </tr>\n",
       "    <tr>\n",
       "      <th>75%</th>\n",
       "      <td>6.000000</td>\n",
       "      <td>140.250000</td>\n",
       "      <td>80.000000</td>\n",
       "      <td>32.000000</td>\n",
       "      <td>127.250000</td>\n",
       "      <td>36.600000</td>\n",
       "      <td>0.626250</td>\n",
       "      <td>41.000000</td>\n",
       "    </tr>\n",
       "    <tr>\n",
       "      <th>max</th>\n",
       "      <td>17.000000</td>\n",
       "      <td>199.000000</td>\n",
       "      <td>122.000000</td>\n",
       "      <td>99.000000</td>\n",
       "      <td>846.000000</td>\n",
       "      <td>67.100000</td>\n",
       "      <td>2.420000</td>\n",
       "      <td>81.000000</td>\n",
       "    </tr>\n",
       "  </tbody>\n",
       "</table>\n",
       "</div>"
      ],
      "text/plain": [
       "       Pregnancies     Glucose  BloodPressure  SkinThickness     Insulin  \\\n",
       "count   768.000000  768.000000     768.000000     768.000000  768.000000   \n",
       "mean      3.845052  120.894531      69.105469      20.536458   79.799479   \n",
       "std       3.369578   31.972618      19.355807      15.952218  115.244002   \n",
       "min       0.000000    0.000000       0.000000       0.000000    0.000000   \n",
       "25%       1.000000   99.000000      62.000000       0.000000    0.000000   \n",
       "50%       3.000000  117.000000      72.000000      23.000000   30.500000   \n",
       "75%       6.000000  140.250000      80.000000      32.000000  127.250000   \n",
       "max      17.000000  199.000000     122.000000      99.000000  846.000000   \n",
       "\n",
       "              BMI  DiabetesPedigreeFunction         Age  \n",
       "count  768.000000                768.000000  768.000000  \n",
       "mean    31.992578                  0.471876   33.240885  \n",
       "std      7.884160                  0.331329   11.760232  \n",
       "min      0.000000                  0.078000   21.000000  \n",
       "25%     27.300000                  0.243750   24.000000  \n",
       "50%     32.000000                  0.372500   29.000000  \n",
       "75%     36.600000                  0.626250   41.000000  \n",
       "max     67.100000                  2.420000   81.000000  "
      ]
     },
     "execution_count": 147,
     "metadata": {},
     "output_type": "execute_result"
    }
   ],
   "source": [
    "# imprime estatísticas resumidas\n",
    "diabetes_data.describe()"
   ]
  },
  {
   "cell_type": "markdown",
   "id": "1dfb2dc2",
   "metadata": {},
   "source": [
    "7. Observando as estatísticas resumidas, você percebe algo estranho nas colunas a seguir?\n",
    "\n",
    "- `Glucose`\n",
    "- `BloodPressure`\n",
    "- `SkinThickness`\n",
    "- `Insulin`\n",
    "- `BMI`"
   ]
  },
  {
   "cell_type": "markdown",
   "id": "e7684e70",
   "metadata": {},
   "source": [
    "**Sua resposta para pergunta 7**:\n",
    "\n",
    "Analisando essa descrição notei o nível máximo de Insulina, que é muito maior em relação aos máximos das outras colunas. Também notei o disparado enorme que tem a Insulina em pessoas com mais de 40 anos de idade (no percentil de 75%). O resto me parece estar caminhando de forma linear.\n"
   ]
  },
  {
   "cell_type": "markdown",
   "id": "43283d16",
   "metadata": {},
   "source": [
    "8. Vamos ver se podemos obter uma visão mais precisa dos valores ausentes nos dados."
   ]
  },
  {
   "cell_type": "code",
   "execution_count": 148,
   "id": "cf9a386b",
   "metadata": {},
   "outputs": [],
   "source": [
    "# substitua instâncias de 0 por NaN\n",
    "diabetes_data = diabetes_data.replace(0, np.nan)"
   ]
  },
  {
   "cell_type": "markdown",
   "id": "ecb3f04b",
   "metadata": {},
   "source": [
    "9. Em seguida, verifique se há valores ausentes (nulos) em todas as colunas, assim como você fez na Etapa 5.\n",
    "\n",
    "    Agora, quantos valores faltantes existem?"
   ]
  },
  {
   "cell_type": "code",
   "execution_count": 149,
   "id": "85945609",
   "metadata": {},
   "outputs": [
    {
     "data": {
      "text/plain": [
       "Pregnancies                 111\n",
       "Glucose                       5\n",
       "BloodPressure                35\n",
       "SkinThickness               227\n",
       "Insulin                     374\n",
       "BMI                          11\n",
       "DiabetesPedigreeFunction      0\n",
       "Age                           0\n",
       "Outcome                       0\n",
       "dtype: int64"
      ]
     },
     "execution_count": 149,
     "metadata": {},
     "output_type": "execute_result"
    }
   ],
   "source": [
    "# descubra se as colunas contêm valores nulos após as substituições serem feitas\n",
    "diabetes_data.isnull().sum()"
   ]
  },
  {
   "cell_type": "markdown",
   "id": "b2903eec",
   "metadata": {},
   "source": [
    "10. Vamos dar uma olhada mais de perto nessas linhas para ter uma ideia melhor de por que alguns dados podem estar faltando.\n",
    "\n",
    "    Mostre todas as linhas que contêm valores ausentes (nulos)."
   ]
  },
  {
   "cell_type": "code",
   "execution_count": 150,
   "id": "8f2fb58f",
   "metadata": {},
   "outputs": [
    {
     "data": {
      "text/html": [
       "<div>\n",
       "<style scoped>\n",
       "    .dataframe tbody tr th:only-of-type {\n",
       "        vertical-align: middle;\n",
       "    }\n",
       "\n",
       "    .dataframe tbody tr th {\n",
       "        vertical-align: top;\n",
       "    }\n",
       "\n",
       "    .dataframe thead th {\n",
       "        text-align: right;\n",
       "    }\n",
       "</style>\n",
       "<table border=\"1\" class=\"dataframe\">\n",
       "  <thead>\n",
       "    <tr style=\"text-align: right;\">\n",
       "      <th></th>\n",
       "      <th>Pregnancies</th>\n",
       "      <th>Glucose</th>\n",
       "      <th>BloodPressure</th>\n",
       "      <th>SkinThickness</th>\n",
       "      <th>Insulin</th>\n",
       "      <th>BMI</th>\n",
       "      <th>DiabetesPedigreeFunction</th>\n",
       "      <th>Age</th>\n",
       "      <th>Outcome</th>\n",
       "    </tr>\n",
       "  </thead>\n",
       "  <tbody>\n",
       "    <tr>\n",
       "      <th>0</th>\n",
       "      <td>6.0</td>\n",
       "      <td>148.0</td>\n",
       "      <td>72.0</td>\n",
       "      <td>35.0</td>\n",
       "      <td>NaN</td>\n",
       "      <td>33.6</td>\n",
       "      <td>0.627</td>\n",
       "      <td>50</td>\n",
       "      <td>1</td>\n",
       "    </tr>\n",
       "    <tr>\n",
       "      <th>1</th>\n",
       "      <td>1.0</td>\n",
       "      <td>85.0</td>\n",
       "      <td>66.0</td>\n",
       "      <td>29.0</td>\n",
       "      <td>NaN</td>\n",
       "      <td>26.6</td>\n",
       "      <td>0.351</td>\n",
       "      <td>31</td>\n",
       "      <td>0</td>\n",
       "    </tr>\n",
       "    <tr>\n",
       "      <th>2</th>\n",
       "      <td>8.0</td>\n",
       "      <td>183.0</td>\n",
       "      <td>64.0</td>\n",
       "      <td>NaN</td>\n",
       "      <td>NaN</td>\n",
       "      <td>23.3</td>\n",
       "      <td>0.672</td>\n",
       "      <td>32</td>\n",
       "      <td>1</td>\n",
       "    </tr>\n",
       "    <tr>\n",
       "      <th>4</th>\n",
       "      <td>NaN</td>\n",
       "      <td>137.0</td>\n",
       "      <td>40.0</td>\n",
       "      <td>35.0</td>\n",
       "      <td>168.0</td>\n",
       "      <td>43.1</td>\n",
       "      <td>2.288</td>\n",
       "      <td>33</td>\n",
       "      <td>1</td>\n",
       "    </tr>\n",
       "    <tr>\n",
       "      <th>5</th>\n",
       "      <td>5.0</td>\n",
       "      <td>116.0</td>\n",
       "      <td>74.0</td>\n",
       "      <td>NaN</td>\n",
       "      <td>NaN</td>\n",
       "      <td>25.6</td>\n",
       "      <td>0.201</td>\n",
       "      <td>30</td>\n",
       "      <td>0</td>\n",
       "    </tr>\n",
       "    <tr>\n",
       "      <th>...</th>\n",
       "      <td>...</td>\n",
       "      <td>...</td>\n",
       "      <td>...</td>\n",
       "      <td>...</td>\n",
       "      <td>...</td>\n",
       "      <td>...</td>\n",
       "      <td>...</td>\n",
       "      <td>...</td>\n",
       "      <td>...</td>\n",
       "    </tr>\n",
       "    <tr>\n",
       "      <th>761</th>\n",
       "      <td>9.0</td>\n",
       "      <td>170.0</td>\n",
       "      <td>74.0</td>\n",
       "      <td>31.0</td>\n",
       "      <td>NaN</td>\n",
       "      <td>44.0</td>\n",
       "      <td>0.403</td>\n",
       "      <td>43</td>\n",
       "      <td>1</td>\n",
       "    </tr>\n",
       "    <tr>\n",
       "      <th>762</th>\n",
       "      <td>9.0</td>\n",
       "      <td>89.0</td>\n",
       "      <td>62.0</td>\n",
       "      <td>NaN</td>\n",
       "      <td>NaN</td>\n",
       "      <td>22.5</td>\n",
       "      <td>0.142</td>\n",
       "      <td>33</td>\n",
       "      <td>0</td>\n",
       "    </tr>\n",
       "    <tr>\n",
       "      <th>764</th>\n",
       "      <td>2.0</td>\n",
       "      <td>122.0</td>\n",
       "      <td>70.0</td>\n",
       "      <td>27.0</td>\n",
       "      <td>NaN</td>\n",
       "      <td>36.8</td>\n",
       "      <td>0.340</td>\n",
       "      <td>27</td>\n",
       "      <td>0</td>\n",
       "    </tr>\n",
       "    <tr>\n",
       "      <th>766</th>\n",
       "      <td>1.0</td>\n",
       "      <td>126.0</td>\n",
       "      <td>60.0</td>\n",
       "      <td>NaN</td>\n",
       "      <td>NaN</td>\n",
       "      <td>30.1</td>\n",
       "      <td>0.349</td>\n",
       "      <td>47</td>\n",
       "      <td>1</td>\n",
       "    </tr>\n",
       "    <tr>\n",
       "      <th>767</th>\n",
       "      <td>1.0</td>\n",
       "      <td>93.0</td>\n",
       "      <td>70.0</td>\n",
       "      <td>31.0</td>\n",
       "      <td>NaN</td>\n",
       "      <td>30.4</td>\n",
       "      <td>0.315</td>\n",
       "      <td>23</td>\n",
       "      <td>0</td>\n",
       "    </tr>\n",
       "  </tbody>\n",
       "</table>\n",
       "<p>432 rows × 9 columns</p>\n",
       "</div>"
      ],
      "text/plain": [
       "     Pregnancies  Glucose  BloodPressure  SkinThickness  Insulin   BMI  \\\n",
       "0            6.0    148.0           72.0           35.0      NaN  33.6   \n",
       "1            1.0     85.0           66.0           29.0      NaN  26.6   \n",
       "2            8.0    183.0           64.0            NaN      NaN  23.3   \n",
       "4            NaN    137.0           40.0           35.0    168.0  43.1   \n",
       "5            5.0    116.0           74.0            NaN      NaN  25.6   \n",
       "..           ...      ...            ...            ...      ...   ...   \n",
       "761          9.0    170.0           74.0           31.0      NaN  44.0   \n",
       "762          9.0     89.0           62.0            NaN      NaN  22.5   \n",
       "764          2.0    122.0           70.0           27.0      NaN  36.8   \n",
       "766          1.0    126.0           60.0            NaN      NaN  30.1   \n",
       "767          1.0     93.0           70.0           31.0      NaN  30.4   \n",
       "\n",
       "     DiabetesPedigreeFunction  Age Outcome  \n",
       "0                       0.627   50       1  \n",
       "1                       0.351   31       0  \n",
       "2                       0.672   32       1  \n",
       "4                       2.288   33       1  \n",
       "5                       0.201   30       0  \n",
       "..                        ...  ...     ...  \n",
       "761                     0.403   43       1  \n",
       "762                     0.142   33       0  \n",
       "764                     0.340   27       0  \n",
       "766                     0.349   47       1  \n",
       "767                     0.315   23       0  \n",
       "\n",
       "[432 rows x 9 columns]"
      ]
     },
     "execution_count": 150,
     "metadata": {},
     "output_type": "execute_result"
    }
   ],
   "source": [
    "# mostre as linhas com valores ausentes\n",
    "diabetes_data[diabetes_data.isnull().any(axis=1)]"
   ]
  },
  {
   "cell_type": "markdown",
   "id": "25ad6ecc",
   "metadata": {},
   "source": [
    "11. Em seguida, dê uma olhada nos tipos de dados de cada coluna em `diabetes_data`.\n",
    "\n",
    "    O resultado corresponde ao que você esperaria?\n",
    "\n",
    "    Sim, do ponto de vista de tipagem (depois de verificar com a função \".info()\"), a maioria dos dados são de tipo número (float64), e também há uma predominância de valores nulos na coluna Insulina."
   ]
  },
  {
   "cell_type": "code",
   "execution_count": 151,
   "id": "ff701712",
   "metadata": {},
   "outputs": [
    {
     "name": "stdout",
     "output_type": "stream",
     "text": [
      "<class 'pandas.core.frame.DataFrame'>\n",
      "RangeIndex: 768 entries, 0 to 767\n",
      "Data columns (total 9 columns):\n",
      " #   Column                    Non-Null Count  Dtype  \n",
      "---  ------                    --------------  -----  \n",
      " 0   Pregnancies               657 non-null    float64\n",
      " 1   Glucose                   763 non-null    float64\n",
      " 2   BloodPressure             733 non-null    float64\n",
      " 3   SkinThickness             541 non-null    float64\n",
      " 4   Insulin                   394 non-null    float64\n",
      " 5   BMI                       757 non-null    float64\n",
      " 6   DiabetesPedigreeFunction  768 non-null    float64\n",
      " 7   Age                       768 non-null    int64  \n",
      " 8   Outcome                   768 non-null    object \n",
      "dtypes: float64(7), int64(1), object(1)\n",
      "memory usage: 54.1+ KB\n"
     ]
    }
   ],
   "source": [
    "# mostre os tipos dos dados usando o método .info()\n",
    "diabetes_data.info()"
   ]
  },
  {
   "cell_type": "markdown",
   "id": "6c9479fb",
   "metadata": {},
   "source": [
    "12. Para descobrir por que a `Outcome` coluna é do tipo `object`(string) em vez do tipo `int64`, imprima os valores exclusivos na `Outcome` coluna."
   ]
  },
  {
   "cell_type": "code",
   "execution_count": 159,
   "id": "1370b247",
   "metadata": {},
   "outputs": [
    {
     "data": {
      "text/plain": [
       "0      1\n",
       "1      0\n",
       "2      1\n",
       "3      0\n",
       "4      1\n",
       "      ..\n",
       "763    0\n",
       "764    0\n",
       "765    0\n",
       "766    1\n",
       "767    0\n",
       "Name: Outcome, Length: 768, dtype: int64"
      ]
     },
     "execution_count": 159,
     "metadata": {},
     "output_type": "execute_result"
    }
   ],
   "source": [
    "# imprime os valores únicos da coluna Outcome\n",
    "convert_outcome_values_to_int = lambda outcome_value: int(str(outcome_value).replace('O', '0'))\n",
    "\n",
    "diabetes_data['Outcome'] = diabetes_data['Outcome'].apply(convert_outcome_values_to_int)\n",
    "\n",
    "diabetes_data['Outcome']"
   ]
  },
  {
   "cell_type": "markdown",
   "id": "2b688264",
   "metadata": {},
   "source": [
    "13. Como você pode resolver esse problema?\n"
   ]
  },
  {
   "cell_type": "markdown",
   "id": "1b1715a5",
   "metadata": {},
   "source": [
    "**Sua resposta à pergunta 13:**\n",
    "\n",
    "Utilizei uma função anônima para converter cada valor da coluna Outcome em um número inteiro, removendo as ocorrências da letra \"O\" do dataframe."
   ]
  },
  {
   "cell_type": "markdown",
   "id": "ef433586",
   "metadata": {},
   "source": [
    "# Parte 2 - Análise Exploratória - Titanic"
   ]
  },
  {
   "cell_type": "code",
   "execution_count": 153,
   "id": "a7fb7637",
   "metadata": {},
   "outputs": [],
   "source": [
    "import matplotlib.pyplot as plt \n",
    "import seaborn as sns\n",
    "\n",
    "titanic = pd.read_csv('titanic.csv')"
   ]
  },
  {
   "cell_type": "markdown",
   "id": "d42d45f4",
   "metadata": {},
   "source": [
    "Um novo conjunto de dados nomeado `titanic`foi carregado. Esses dados contêm informações sobre os passageiros do Titanic, incluindo o valor que pagaram pela passagem e se sobreviveram ou não. Vamos investigar se existe uma associação entre a tarifa que um passageiro pagou (`Fare`) e se ele sobreviveu ou não (`Survived`, que é igual a `0` se o passageiro morreu e `1` se sobreviveu): "
   ]
  },
  {
   "cell_type": "markdown",
   "id": "89eb800e",
   "metadata": {},
   "source": [
    "- Calcule a diferença na tarifa média paga pelos que sobreviveram e pelos que morreram. Qual grupo pagou uma tarifa média mais alta?\n",
    "\n",
    "- Calcule a diferença na tarifa mediana para aqueles que sobreviveram e aqueles que morreram.\n",
    "\n",
    "- Crie um histograma da coluna idade para visualizar a distribuição das idades dos passageiros.\n",
    "\n",
    "- Crie gráficos boxplot lado a lado de tarifas por sobrevivência. Agora que você pode ver a disseminação dos dados, as diferenças média/mediana parecem relativamente pequenas ou grandes?\n",
    "\n",
    "- Calcule a matriz de correlação. Existe correlações entre as variáveis?\n",
    "\n",
    "- Crie gráficos de disperção para melhor visualizar a correlação entre variáveis\n",
    "\n",
    "- Use suas habilidades e apresente outras análises que ajudaram a entender melhor os dados "
   ]
  },
  {
   "cell_type": "markdown",
   "id": "baa94139",
   "metadata": {},
   "source": [
    "# Fim"
   ]
  }
 ],
 "metadata": {
  "kernelspec": {
   "display_name": "Python 3",
   "language": "python",
   "name": "python3"
  },
  "language_info": {
   "codemirror_mode": {
    "name": "ipython",
    "version": 3
   },
   "file_extension": ".py",
   "mimetype": "text/x-python",
   "name": "python",
   "nbconvert_exporter": "python",
   "pygments_lexer": "ipython3",
   "version": "3.8.8"
  }
 },
 "nbformat": 4,
 "nbformat_minor": 5
}
